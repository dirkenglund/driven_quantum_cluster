{
 "cells": [
  {
   "cell_type": "code",
   "execution_count": 24,
   "id": "8a456d60",
   "metadata": {},
   "outputs": [
    {
     "data": {
      "text/plain": [
       "'\\nQuantum Percolation Visualization on a Square Lattice\\n\\nFeatures:\\n- Modular design with configuration management\\n- Type hints and comprehensive documentation\\n- Progress tracking for long simulations\\n- Efficient memory usage with precomputed values\\n- Improved error handling and validation\\n'"
      ]
     },
     "execution_count": 24,
     "metadata": {},
     "output_type": "execute_result"
    }
   ],
   "source": [
    "\"\"\"\n",
    "Quantum Percolation Visualization on a Square Lattice\n",
    "\n",
    "Features:\n",
    "- Modular design with configuration management\n",
    "- Type hints and comprehensive documentation\n",
    "- Progress tracking for long simulations\n",
    "- Efficient memory usage with precomputed values\n",
    "- Improved error handling and validation\n",
    "\"\"\""
   ]
  },
  {
   "cell_type": "code",
   "execution_count": 25,
   "id": "3c833aea",
   "metadata": {
    "lines_to_next_cell": 1
   },
   "outputs": [],
   "source": [
    "import networkx as nx\n",
    "import numpy as np\n",
    "import matplotlib.pyplot as plt\n",
    "from matplotlib.animation import FuncAnimation, PillowWriter\n",
    "from IPython.display import Image\n",
    "import io\n",
    "import tempfile\n",
    "from dataclasses import dataclass\n",
    "from typing import Set, Dict, Tuple, Generator, Any\n",
    "from tqdm.notebook import tqdm\n",
    "import matplotlib.lines as mlines"
   ]
  },
  {
   "cell_type": "code",
   "execution_count": 26,
   "id": "d7115586",
   "metadata": {
    "lines_to_next_cell": 1
   },
   "outputs": [],
   "source": [
    "@dataclass\n",
    "class SimulationConfig:\n",
    "    \"\"\"Configuration parameters for quantum percolation simulation.\"\"\"\n",
    "    n: int = 20        # Size of the lattice (n x n)\n",
    "    steps: int = 80    # Number of time steps\n",
    "    p_trial: float = 0.1 # Probability of establishing entanglement\n",
    "    p_error: float = 0.01 # Probability of error\n",
    "    fps: int = 2       # Animation frames per second\n",
    "    seed: int = 42     # Random seed for reproducibility\n",
    "\n",
    "    def validate(self) -> None:\n",
    "        \"\"\"Validate configuration parameters.\"\"\"\n",
    "        assert 0.0 <= self.p_trial <= 1.0, \"p_trial must be between 0 and 1.\"\n",
    "        assert 0.0 <= self.p_error <= 1.0, \"p_error must be between 0 and 1.\"\n",
    "        assert self.n > 0, \"n must be positive.\"\n",
    "        assert self.steps > 0, \"steps must be positive.\"\n",
    "        assert self.fps > 0, \"fps must be positive.\""
   ]
  },
  {
   "cell_type": "code",
   "execution_count": 27,
   "id": "0f966a3a",
   "metadata": {
    "lines_to_next_cell": 1
   },
   "outputs": [],
   "source": [
    "def create_empty_graph(n: int) -> nx.Graph:\n",
    "    \"\"\"\n",
    "    Creates an empty n x n lattice graph with no edges.\n",
    "\n",
    "    Parameters\n",
    "    ----------\n",
    "    n : int\n",
    "        Number of nodes along each dimension.\n",
    "\n",
    "    Returns\n",
    "    -------\n",
    "    G : networkx.Graph\n",
    "        Graph with nodes placed in an n x n grid.\n",
    "    \"\"\"\n",
    "    G = nx.Graph()\n",
    "    for x in range(n):\n",
    "        for y in range(n):\n",
    "            G.add_node((x, y))\n",
    "    return G"
   ]
  },
  {
   "cell_type": "code",
   "execution_count": 28,
   "id": "04c9d541",
   "metadata": {
    "lines_to_next_cell": 1
   },
   "outputs": [],
   "source": [
    "def attempt_add_edges(G: nx.Graph, step: int, n: int, p_trial: float, \n",
    "                     trial_array: np.ndarray) -> None:\n",
    "    \"\"\"\n",
    "    Attempt to add edges between nodes according to the given probabilities and pattern.\n",
    "\n",
    "    Parameters\n",
    "    ----------\n",
    "    G : networkx.Graph\n",
    "        The current graph.\n",
    "    step : int\n",
    "        Current simulation step.\n",
    "    n : int\n",
    "        Lattice size.\n",
    "    p_trial : float\n",
    "        Probability of establishing entanglement.\n",
    "    trial_array : np.ndarray\n",
    "        Precomputed random array for edge trials: shape (n, n, steps).\n",
    "    \"\"\"\n",
    "    mod_step = step % 4\n",
    "    for x in range(n):\n",
    "        for y in range(n - 1):\n",
    "            current_p = trial_array[x, y, step]\n",
    "            if current_p < p_trial:\n",
    "                if mod_step == 0 and x % 2 == 0 and y % 2 == 0:\n",
    "                    G.add_edge((x, y), (x, y + 1))\n",
    "                elif mod_step == 1 and x % 2 == 0 and x < n - 1:\n",
    "                    G.add_edge((x, y), (x + 1, y))\n",
    "                elif mod_step == 2 and x % 2 == 1 and y % 2 == 1:\n",
    "                    G.add_edge((x, y), (x, y + 1))\n",
    "                elif mod_step == 3 and x % 2 == 1 and x < n - 1:\n",
    "                    G.add_edge((x, y), (x + 1, y))"
   ]
  },
  {
   "cell_type": "code",
   "execution_count": 29,
   "id": "7dc27a66",
   "metadata": {
    "lines_to_next_cell": 1
   },
   "outputs": [],
   "source": [
    "def introduce_errors(G: nx.Graph, largest_cc: Set, error_array: np.ndarray, \n",
    "                    step: int, p_error: float, error_edges: Set) -> None:\n",
    "    \"\"\"\n",
    "    Introduce heralded entanglement/decoherence errors at each step.\n",
    "\n",
    "    Parameters\n",
    "    ----------\n",
    "    G : networkx.Graph\n",
    "        Current state of the graph.\n",
    "    largest_cc : set\n",
    "        Largest connected component at this step.\n",
    "    error_array : np.ndarray\n",
    "        Array of random values for error introduction.\n",
    "    step : int\n",
    "        Current simulation step.\n",
    "    p_error : float\n",
    "        Probability of heralded entanglement/decoherence error.\n",
    "    error_edges : set\n",
    "        Set to store edges that experience heralded errors.\n",
    "    \"\"\"\n",
    "    for node in list(G.nodes):\n",
    "        if error_array[node[0] % len(error_array), step] < p_error:\n",
    "            neighbors = list(G.neighbors(node))\n",
    "            for neighbor in neighbors:\n",
    "                if node in largest_cc and neighbor in largest_cc:\n",
    "                    error_edges.add(tuple(sorted((node, neighbor))))\n",
    "                G.remove_edge(node, neighbor)"
   ]
  },
  {
   "cell_type": "code",
   "execution_count": 30,
   "id": "9ab4ca04",
   "metadata": {
    "lines_to_next_cell": 1
   },
   "outputs": [],
   "source": [
    "def draw_grid(step: int, G: nx.Graph, largest_cc: Set, n: int, \n",
    "             ax: plt.Axes, error_edges: Set, pos: Dict[Tuple[int, int], Tuple[float, float]]) -> None:\n",
    "    \"\"\"\n",
    "    Draw the square lattice graph with color-coded nodes and edges.\n",
    "\n",
    "    Parameters\n",
    "    ----------\n",
    "    step : int\n",
    "        Current simulation step.\n",
    "    G : networkx.Graph\n",
    "        Current state of the graph.\n",
    "    largest_cc : set\n",
    "        Largest connected component in the graph.\n",
    "    n : int\n",
    "        Lattice size.\n",
    "    ax : matplotlib.axes.Axes\n",
    "        Axes object for plotting.\n",
    "    error_edges : set\n",
    "        Set of edges with heralded entanglement or decoherence errors.\n",
    "    pos : dict\n",
    "        Precomputed positions of nodes.\n",
    "    \"\"\"\n",
    "    ax.clear()\n",
    "\n",
    "    node_colors = ['red' if node in largest_cc else 'gray' for node in G.nodes]\n",
    "\n",
    "    edge_colors = []\n",
    "    edge_styles = []\n",
    "    for u, v in G.edges:\n",
    "        edge_tuple = tuple(sorted((u, v)))\n",
    "        if edge_tuple in error_edges:\n",
    "            edge_colors.append('red')\n",
    "            edge_styles.append('dashed')\n",
    "        elif u in largest_cc and v in largest_cc:\n",
    "            edge_colors.append('red')\n",
    "            edge_styles.append('solid')\n",
    "        else:\n",
    "            edge_colors.append('black')\n",
    "            edge_styles.append('solid')\n",
    "\n",
    "    nx.draw(G, pos, node_color=node_colors, edge_color=edge_colors, style=edge_styles,\n",
    "            with_labels=False, node_size=80, font_weight='bold', ax=ax)\n",
    "\n",
    "    # Add legend\n",
    "    data_qubit_marker = mlines.Line2D([], [], color='grey', marker='o', markersize=10,\n",
    "                                      label='Data Qubit', linestyle='None')\n",
    "    data_qubit_largest_marker = mlines.Line2D([], [], color='red', marker='o', markersize=10,\n",
    "                                              label='Data Qubit in Largest Cluster', linestyle='None')\n",
    "    entanglement_line = mlines.Line2D([], [], color='black', linestyle='-', linewidth=2,\n",
    "                                      label='Entanglement')\n",
    "    entangled_cluster_line = mlines.Line2D([], [], color='red', linestyle='-', linewidth=2,\n",
    "                                           label='Largest Entangled Cluster')\n",
    "    heralded_error_line = mlines.Line2D([], [], color='red', linestyle='dashed', linewidth=2,\n",
    "                                        label='Heralded Error')\n",
    "\n",
    "    ax.legend(handles=[data_qubit_marker, data_qubit_largest_marker, entanglement_line,\n",
    "                       entangled_cluster_line, heralded_error_line], loc='upper right')\n",
    "\n",
    "    ax.set_title(f\"Time step: {step+1}\")\n",
    "    \n",
    "    # Set proper axis settings\n",
    "    ax.set_aspect('equal', adjustable='box')\n",
    "    ax.set_xlim(-1, n)\n",
    "    ax.set_ylim(-1, n)\n",
    "    ax.autoscale(False)"
   ]
  },
  {
   "cell_type": "code",
   "execution_count": 31,
   "id": "144793f5",
   "metadata": {
    "lines_to_next_cell": 1
   },
   "outputs": [],
   "source": [
    "def percolation_simulation(config: SimulationConfig) -> Generator[Tuple[int, nx.Graph, Set, Set], None, None]:\n",
    "    \"\"\"\n",
    "    Simulates quantum percolation on a square lattice over a specified number of steps.\n",
    "    \n",
    "    Parameters\n",
    "    ----------\n",
    "    config : SimulationConfig\n",
    "        Configuration parameters for the simulation.\n",
    "    \n",
    "    Yields\n",
    "    ------\n",
    "    Tuple[int, nx.Graph, Set, Set]\n",
    "        Current step, graph state, largest connected component, and error edges.\n",
    "    \"\"\"\n",
    "    config.validate()\n",
    "    \n",
    "    np.random.seed(config.seed)\n",
    "    \n",
    "    G = create_empty_graph(config.n)\n",
    "    error_edges = set()\n",
    "    largest_cc = set()\n",
    "    \n",
    "    trial_array = np.random.rand(config.n, config.n, config.steps)\n",
    "    error_array = np.random.rand(config.n, config.steps)\n",
    "    \n",
    "    for step in tqdm(range(config.steps), desc=\"Simulating\"):\n",
    "        attempt_add_edges(G, step, config.n, config.p_trial, trial_array)\n",
    "        \n",
    "        connected_components = nx.connected_components(G)\n",
    "        largest_cc = max(connected_components, key=len) if G.edges else set()\n",
    "        \n",
    "        introduce_errors(G, largest_cc, error_array, step, config.p_error, error_edges)\n",
    "        \n",
    "        if G.edges:\n",
    "            connected_components = nx.connected_components(G)\n",
    "            largest_cc = max(connected_components, key=len)\n",
    "        else:\n",
    "            largest_cc = set()\n",
    "            \n",
    "        yield step, G, largest_cc, error_edges"
   ]
  },
  {
   "cell_type": "code",
   "execution_count": 32,
   "id": "47496aa3",
   "metadata": {
    "lines_to_next_cell": 1
   },
   "outputs": [],
   "source": [
    "def create_animation(config: SimulationConfig) -> Tuple[FuncAnimation, Dict]:\n",
    "    \"\"\"\n",
    "    Create animation of the quantum percolation simulation.\n",
    "    \n",
    "    Parameters\n",
    "    ----------\n",
    "    config : SimulationConfig\n",
    "        Configuration parameters for the simulation.\n",
    "        \n",
    "    Returns\n",
    "    -------\n",
    "    Tuple[FuncAnimation, Dict]\n",
    "        Animation object and position dictionary for the nodes.\n",
    "    \"\"\"\n",
    "    pos = {(x, y): (x, y) for x in range(config.n) for y in range(config.n)}\n",
    "    \n",
    "    fig, ax = plt.subplots(figsize=(6, 6))\n",
    "    \n",
    "    def update(frame):\n",
    "        step, G, largest_cc, error_edges = frame\n",
    "        draw_grid(step, G, largest_cc, config.n, ax, error_edges, pos)\n",
    "    \n",
    "    ani = FuncAnimation(\n",
    "        fig, \n",
    "        update,\n",
    "        frames=percolation_simulation(config),\n",
    "        blit=False,\n",
    "        interval=1000//config.fps,\n",
    "        repeat=False,\n",
    "        save_count=config.steps\n",
    "    )\n",
    "    \n",
    "    plt.close(fig)\n",
    "    return ani, pos"
   ]
  },
  {
   "cell_type": "code",
   "execution_count": 33,
   "id": "55a8f886",
   "metadata": {
    "lines_to_next_cell": 1
   },
   "outputs": [],
   "source": [
    "def save_animation(animation: FuncAnimation, config: SimulationConfig) -> Image:\n",
    "    \"\"\"\n",
    "    Save the animation as a GIF and return it as an IPython Image.\n",
    "    \n",
    "    Parameters\n",
    "    ----------\n",
    "    animation : FuncAnimation\n",
    "        The animation to save\n",
    "    config : SimulationConfig\n",
    "        Configuration parameters for the simulation\n",
    "        \n",
    "    Returns\n",
    "    -------\n",
    "    Image\n",
    "        IPython Image object containing the animation\n",
    "    \"\"\"\n",
    "    gif_writer = PillowWriter(fps=config.fps)\n",
    "    \n",
    "    with tempfile.NamedTemporaryFile(suffix=\".gif\") as tmpfile:\n",
    "        animation.save(tmpfile.name, writer=gif_writer)\n",
    "        with open(tmpfile.name, 'rb') as f:\n",
    "            buf = io.BytesIO(f.read())\n",
    "    \n",
    "    return Image(buf.getvalue())"
   ]
  },
  {
   "cell_type": "code",
   "execution_count": 34,
   "id": "84525fcf",
   "metadata": {},
   "outputs": [
    {
     "data": {
      "application/vnd.jupyter.widget-view+json": {
       "model_id": "32f7c066487944c0b18269db47a79b43",
       "version_major": 2,
       "version_minor": 0
      },
      "text/plain": [
       "Simulating:   0%|          | 0/80 [00:00<?, ?it/s]"
      ]
     },
     "metadata": {},
     "output_type": "display_data"
    }
   ],
   "source": [
    "if __name__ == \"__main__\":\n",
    "    # Create configuration\n",
    "    config = SimulationConfig()\n",
    "    \n",
    "    # Create and save animation\n",
    "    animation, pos = create_animation(config)\n",
    "    display_image = save_animation(animation, config)\n",
    "    \n",
    "    # Display the animation\n",
    "    display_image "
   ]
  }
 ],
 "metadata": {
  "jupytext": {
   "cell_metadata_filter": "-all",
   "encoding": "# -*- coding: utf-8 -*-",
   "main_language": "python",
   "notebook_metadata_filter": "-all"
  },
  "kernelspec": {
   "display_name": "Python 3 (ipykernel)",
   "language": "python",
   "name": "python3"
  },
  "language_info": {
   "codemirror_mode": {
    "name": "ipython",
    "version": 3
   },
   "file_extension": ".py",
   "mimetype": "text/x-python",
   "name": "python",
   "nbconvert_exporter": "python",
   "pygments_lexer": "ipython3",
   "version": "3.11.11"
  }
 },
 "nbformat": 4,
 "nbformat_minor": 5
}
